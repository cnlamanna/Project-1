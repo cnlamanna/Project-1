{
 "cells": [
  {
   "cell_type": "code",
   "execution_count": 1,
   "metadata": {},
   "outputs": [],
   "source": [
    "# Dependencies\n",
    "import pandas as pd\n",
    "from pathlib import Path\n",
    "import csv"
   ]
  },
  {
   "cell_type": "code",
   "execution_count": 4,
   "metadata": {},
   "outputs": [
    {
     "data": {
      "text/plain": [
       "Drake              208\n",
       "Future             190\n",
       "Taylor Swift       172\n",
       "Logic              120\n",
       "Trippie Redd       114\n",
       "                  ... \n",
       "HRVY                 1\n",
       "Lean Trap            1\n",
       "Travie McCoy         1\n",
       "Nate Ruess           1\n",
       "The Band Perry       1\n",
       "Name: Artist Name, Length: 1612, dtype: int64"
      ]
     },
     "execution_count": 4,
     "metadata": {},
     "output_type": "execute_result"
    }
   ],
   "source": [
    "# Read, import, & merge statista csv data\n",
    "\n",
    "# Reference all Resources files\n",
    "age_by_music_path = (\"Resources/age_by_music.csv\")\n",
    "ethnicity_by_music_path = (\"Resources/ethnicity_by_music.csv\")\n",
    "gender_by_music_path = (\"Resources/gender_by_music.csv\")\n",
    "income_by_music_path = (\"Resources/income_by_music.csv\")\n",
    "state_by_music_path = (\"Resources/state_by_music.csv\")\n",
    "spotify_path = (\"Resources/Spotify_final_dataset.csv\")\n",
    "\n",
    "# Import data into a Pandas Dataframe\n",
    "age_by_music_df = pd.read_csv(age_by_music_path)\n",
    "ethnicity_by_music_df = pd.read_csv(ethnicity_by_music_path)\n",
    "gender_by_music_df = pd.read_csv(gender_by_music_path)\n",
    "income_by_music_df = pd.read_csv(income_by_music_path)\n",
    "state_by_music_df = pd.read_csv(state_by_music_path)\n",
    "spotify_df = pd.read_csv(spotify_path)\n",
    "\n",
    "\n",
    "# Pull the unique artists\n",
    "spotify_df['Artist Name'].value_counts()\n",
    "\n",
    "\n"
   ]
  }
 ],
 "metadata": {
  "kernelspec": {
   "display_name": "EdX",
   "language": "python",
   "name": "python3"
  },
  "language_info": {
   "codemirror_mode": {
    "name": "ipython",
    "version": 3
   },
   "file_extension": ".py",
   "mimetype": "text/x-python",
   "name": "python",
   "nbconvert_exporter": "python",
   "pygments_lexer": "ipython3",
   "version": "3.10.11"
  },
  "orig_nbformat": 4
 },
 "nbformat": 4,
 "nbformat_minor": 2
}
